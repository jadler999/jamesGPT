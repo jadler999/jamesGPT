{
 "cells": [
  {
   "cell_type": "code",
   "execution_count": 1,
   "id": "dac0bf9b",
   "metadata": {},
   "outputs": [],
   "source": [
    "import sqlite3\n",
    "import pandas as pd\n",
    "from datetime import datetime\n",
    "from datetime import date\n",
    "import matplotlib.pyplot as plt"
   ]
  },
  {
   "cell_type": "code",
   "execution_count": null,
   "id": "d5666006",
   "metadata": {},
   "outputs": [],
   "source": [
    "# find your chat.db and establish a connection\n",
    "conn = sqlite3.connect('/Users/<your user name here>/Library/Messages/chat.db')\n",
    "cur = conn.cursor()\n",
    "\n",
    "# query the database to get all the table names\n",
    "cur.execute(\" select name from sqlite_master where type = 'table' \")\n",
    "\n",
    "for name in cur.fetchall():\n",
    "    print(name)"
   ]
  },
  {
   "cell_type": "code",
   "execution_count": 3,
   "id": "8a24e540",
   "metadata": {},
   "outputs": [],
   "source": [
    "## Getting required tables\n",
    "messages = pd.read_sql_query('''select *, datetime(date/1000000000 + strftime(\"%s\", \"2001-01-01\") ,\"unixepoch\",\"localtime\")  as date_utc from message''', conn) \n",
    "handles = pd.read_sql_query(\"select * from handle\", conn)\n",
    "chat_message_joins = pd.read_sql_query(\"select * from chat_message_join\", conn)"
   ]
  },
  {
   "cell_type": "code",
   "execution_count": 4,
   "id": "51b3563f",
   "metadata": {},
   "outputs": [],
   "source": [
    "# these fields are only for ease of datetime analysis (e.g., number of messages per month or year)\n",
    "messages['message_date'] = messages['date']\n",
    "messages['timestamp'] = messages['date_utc'].apply(lambda x: pd.Timestamp(x))\n",
    "messages['date'] = messages['timestamp'].apply(lambda x: x.date())\n",
    "messages['month'] = messages['timestamp'].apply(lambda x: int(x.month))\n",
    "messages['year'] = messages['timestamp'].apply(lambda x: int(x.year))"
   ]
  },
  {
   "cell_type": "code",
   "execution_count": 5,
   "id": "60ba718c",
   "metadata": {},
   "outputs": [],
   "source": [
    "# rename the ROWID into message_id, because that's what it is\n",
    "messages.rename(columns={'ROWID' : 'message_id'}, inplace = True)"
   ]
  },
  {
   "cell_type": "code",
   "execution_count": 6,
   "id": "5bedf8ab",
   "metadata": {},
   "outputs": [],
   "source": [
    "# rename appropriately the handle and apple_id/phone_number as well\n",
    "handles.rename(columns={'id' : 'contact_info', 'ROWID': 'handle_id'}, inplace = True)"
   ]
  },
  {
   "cell_type": "code",
   "execution_count": null,
   "id": "2f4184dc",
   "metadata": {},
   "outputs": [],
   "source": [
    "# merge the messages with the handles\n",
    "merge_level_1 = pd.merge(messages[['text', 'handle_id', 'date','message_date' ,'timestamp', 'month','year','is_sent', 'message_id']],  handles[['handle_id', 'contact_info']], on ='handle_id', how='left')\n",
    "\n",
    "# and then that table with the chats\n",
    "df_messages = pd.merge(merge_level_1, chat_message_joins[['chat_id', 'message_id']], on = 'message_id', how='left')\n",
    "\n",
    "\n",
    "# print(len(df_messages))\n",
    "print(df_messages.head())"
   ]
  },
  {
   "cell_type": "code",
   "execution_count": 8,
   "id": "6ed00daf",
   "metadata": {},
   "outputs": [],
   "source": [
    "# for each unique chat_id, I measure the number of unique contacts.\n",
    "# your contact does not count\n",
    "chat_size = df_messages.groupby('chat_id')['contact_info'].nunique().to_frame().\\\n",
    "                    reset_index().rename(columns={'contact_info':'num_participants'})\n",
    "\n",
    "# if there are at least 2 other contacts (other than you) then flag this as a group chat\n",
    "chat_size['is_group_chat'] = chat_size['num_participants'].apply(lambda x: x>1)\n",
    "\n",
    "df_messages = pd.merge(df_messages, chat_size[['chat_id','is_group_chat']], on='chat_id', how='left')"
   ]
  },
  {
   "cell_type": "code",
   "execution_count": null,
   "id": "f0d6b95c",
   "metadata": {},
   "outputs": [],
   "source": [
    "# Adding contact names into data set\n",
    "contact_grouping = {\n",
    "    \"<contact info name>\":\"<name you would like to add>\",\n",
    "    \"+1234567890\":\"John Doe\",\n",
    "    # contact names wiped for privacy \n",
    "\n",
    "                   }\n",
    "\n",
    "contact_df = pd.DataFrame(list(contact_grouping.items()), columns=['contact_info', 'contact_name'])\n",
    "\n",
    "df_messages = pd.merge(df_messages,contact_df ,on='contact_info', how='left')\n",
    "df_messages.head()"
   ]
  },
  {
   "cell_type": "code",
   "execution_count": 26,
   "id": "c106f59a",
   "metadata": {},
   "outputs": [],
   "source": [
    "# for contacts with no name assigned to them, just have the contact as the name.\n",
    "# this is helpful for grouping by name - \n",
    "# if you don't do this, and group by name, then all the NULL will be grouped into one\n",
    "df_messages['contact_name'].fillna(df_messages['contact_info'],inplace=True)"
   ]
  },
  {
   "cell_type": "code",
   "execution_count": 19,
   "id": "98ff90a7",
   "metadata": {},
   "outputs": [],
   "source": [
    "# setting what characters I will allow in messagse\n",
    "allowedChars = ' !$&,-.:;@()?ABCDEFGHIJKLMNOPQRSTUVWXYZabcdefghijklmnopqrstuvwxyz1234567890' \n",
    "mySet = set(allowedChars)"
   ]
  },
  {
   "cell_type": "code",
   "execution_count": 33,
   "id": "886fd7ee",
   "metadata": {},
   "outputs": [],
   "source": [
    "# Open a text file in 'append' mode\n",
    "with open('message_log.txt', 'a') as file:\n",
    "    for _, row in df_messages.iterrows():\n",
    "        \n",
    "        if row.text and row.contact_name:    \n",
    "            # Filter out characters not in mySet from row.text\n",
    "            filtered_text = ''.join(char for char in row.text if char in mySet)\n",
    "\n",
    "            # Filter out characters not in mySet from row.contact_name\n",
    "            string_name = str(row.contact_name)\n",
    "            filtered_contact_name = ''.join(char for char in string_name if char in mySet)\n",
    "\n",
    "            # Create the message and customize for if sent or received\n",
    "            message = ''\n",
    "            if row.is_sent:\n",
    "                message = f'To {filtered_contact_name}:\\n{filtered_text}\\n'\n",
    "            else:\n",
    "                message = f'From {filtered_contact_name}:\\n{filtered_text}\\n'\n",
    "            \n",
    "            # Add messages to file\n",
    "            file.write(message)\n",
    "            file.write('\\n')"
   ]
  }
 ],
 "metadata": {
  "kernelspec": {
   "display_name": "Python 3 (ipykernel)",
   "language": "python",
   "name": "python3"
  },
  "language_info": {
   "codemirror_mode": {
    "name": "ipython",
    "version": 3
   },
   "file_extension": ".py",
   "mimetype": "text/x-python",
   "name": "python",
   "nbconvert_exporter": "python",
   "pygments_lexer": "ipython3",
   "version": "3.11.3"
  }
 },
 "nbformat": 4,
 "nbformat_minor": 5
}
